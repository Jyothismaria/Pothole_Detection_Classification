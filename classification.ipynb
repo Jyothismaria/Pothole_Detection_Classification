{
 "cells": [
  {
   "cell_type": "code",
   "execution_count": null,
   "id": "4a1afbea",
   "metadata": {},
   "outputs": [],
   "source": [
    "import os\n",
    "import cv2\n",
    "import csv\n",
    "import yaml\n",
    "from roboflow import Roboflow\n",
    "from ultralytics import YOLO\n",
    "from collections import defaultdict\n",
    "from sklearn.metrics import confusion_matrix, classification_report\n",
    "import matplotlib.pyplot as plt\n",
    "import seaborn as sns"
   ]
  },
  {
   "cell_type": "code",
   "execution_count": null,
   "id": "d8204503",
   "metadata": {},
   "outputs": [],
   "source": [
    "model = YOLO('yolov8m-cls.pt') \n",
    "model.train(data='cropped_dataset_pad2', epochs=5)          "
   ]
  }
 ],
 "metadata": {
  "kernelspec": {
   "display_name": "Python 3",
   "language": "python",
   "name": "python3"
  },
  "language_info": {
   "codemirror_mode": {
    "name": "ipython",
    "version": 3
   },
   "file_extension": ".py",
   "mimetype": "text/x-python",
   "name": "python",
   "nbconvert_exporter": "python",
   "pygments_lexer": "ipython3",
   "version": "3.12.5"
  }
 },
 "nbformat": 4,
 "nbformat_minor": 5
}
