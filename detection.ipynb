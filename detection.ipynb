{
  "cells": [
    {
      "cell_type": "code",
      "execution_count": null,
      "metadata": {
        "colab": {
          "base_uri": "https://localhost:8080/"
        },
        "id": "P8g7oIcJsOyN",
        "outputId": "b965d4b4-0982-4e30-97f6-214e79e9b270"
      },
      "outputs": [],
      "source": [
        "!nvidia-smi"
      ]
    },
    {
      "cell_type": "code",
      "execution_count": null,
      "metadata": {
        "colab": {
          "base_uri": "https://localhost:8080/"
        },
        "id": "on2K-9xcsYCl",
        "outputId": "39135997-bcc6-484c-81e7-88728e3daabb"
      },
      "outputs": [],
      "source": [
        "import os\n",
        "import shutil\n",
        "%pip install \"ultralytics<=8.3.40\" supervision roboflow\n",
        "import ultralytics\n",
        "from google.colab import drive\n",
        "from google.colab import userdata\n",
        "from roboflow import Roboflow\n",
        "from ultralytics import YOLO\n",
        "import os"
      ]
    },
    {
      "cell_type": "code",
      "execution_count": null,
      "metadata": {
        "colab": {
          "base_uri": "https://localhost:8080/"
        },
        "id": "UxMBmrLOuAt3",
        "outputId": "e576ff6e-4afd-4df7-a186-4119366414fc"
      },
      "outputs": [],
      "source": [
        "HOME = os.getcwd()\n",
        "print(HOME)\n",
        "ultralytics.checks()"
      ]
    },
    {
      "cell_type": "code",
      "execution_count": null,
      "metadata": {
        "colab": {
          "base_uri": "https://localhost:8080/"
        },
        "id": "Wsa_MGgJs5yM",
        "outputId": "7c69f745-2b85-444a-d509-fd87778fe174"
      },
      "outputs": [],
      "source": [
        "drive.mount('/content/drive')"
      ]
    },
    {
      "cell_type": "code",
      "execution_count": null,
      "metadata": {
        "id": "SHRoY6L9tgxQ"
      },
      "outputs": [],
      "source": [
        "save_path = \"/content/drive/MyDrive/pothole_detection\"\n",
        "os.makedirs(save_path, exist_ok=True)"
      ]
    },
    {
      "cell_type": "code",
      "execution_count": null,
      "metadata": {
        "colab": {
          "base_uri": "https://localhost:8080/"
        },
        "id": "JUm76OH0tyWp",
        "outputId": "d41757e8-8f0f-4d57-9f3b-cf5eba14af66"
      },
      "outputs": [],
      "source": [
        "%cd {HOME}\n",
        "\n",
        "if os.path.exists(\"/content/datasets_classification\"):\n",
        "    shutil.rmtree(\"/content/datasets_classification\")\n",
        "os.makedirs(\"/content/datasets_classification\", exist_ok=True)\n",
        "\n",
        "%cd {HOME}/datasets_classification\n",
        "\n",
        "\n",
        "rf = Roboflow(api_key=\"vJRRNV9HbDPFy95m0veX\")\n",
        "project = rf.workspace(\"object-detection-pxcal\").project(\"pothole-dif-severity-2\")\n",
        "version = project.version(2)\n",
        "dataset_classification = version.download(\"yolov11\")"
      ]
    },
    {
      "cell_type": "code",
      "execution_count": null,
      "metadata": {
        "id": "aI3Zh6AqtieR"
      },
      "outputs": [],
      "source": [
        "if os.path.exists(\"/content/drive/MyDrive/pothole_detection/yolo11l_model\"):\n",
        "    shutil.rmtree(\"/content/drive/MyDrive/pothole_detection/yolo11l_model\")"
      ]
    },
    {
      "cell_type": "code",
      "execution_count": null,
      "metadata": {
        "colab": {
          "background_save": true,
          "base_uri": "https://localhost:8080/"
        },
        "id": "0IC7f1QgtxQC",
        "outputId": "1c539633-b910-4ac8-86d6-91fa9b7f86ee"
      },
      "outputs": [],
      "source": [
        "#model = YOLO(\"yolo5m.pt\")\n",
        "#model = YOLO(\"yolo5l.pt\")\n",
        "#model = YOLO(\"yolo11m.pt\")\n",
        "model = YOLO(\"yolo11l.pt\")\n",
        "\n",
        "yolo_params = {\n",
        "    'task': 'detect',\n",
        "    'image_size': 640,\n",
        "    'batch_size': 16,\n",
        "    'epochs': 450,\n",
        "}\n",
        "\n",
        "output_dir = \"/content/drive/MyDrive/yolo11_pothole_project\"\n",
        "dataset_yaml_path = os.path.join(dataset_classification.location, \"data.yaml\")\n",
        "\n",
        "results = model.train(\n",
        "    data=dataset_yaml_path,\n",
        "    task=yolo_params['task'],\n",
        "    imgsz=yolo_params['image_size'],\n",
        "    epochs=yolo_params['epochs'],\n",
        "    name=f\"yolo11l_model\",\n",
        "    project=os.path.join(output_dir, \"runs\"),\n",
        ")"
      ]
    },
    {
      "cell_type": "code",
      "execution_count": null,
      "metadata": {
        "colab": {
          "background_save": true
        },
        "id": "nnZo44eMuznY"
      },
      "outputs": [],
      "source": [
        "result_dir = '/content/drive/MyDrive/pothole_detection/yolo11l_model/'\n",
        "if os.path.exists(f\"{result_dir}/predictions\"):\n",
        "    shutil.rmtree(f\"{result_dir}/predictions\")"
      ]
    },
    {
      "cell_type": "code",
      "execution_count": null,
      "metadata": {
        "id": "bVvbQGYUvgZH"
      },
      "outputs": [],
      "source": [
        "PREDICTION_DIR = f\"{result_dir}/predictions\"\n",
        "os.makedirs(PREDICTION_DIR, exist_ok=True)\n",
        "model = YOLO(f\"{result_dir}/weights/best.pt\")\n",
        "results = model.predict(\n",
        "    source=f'{dataset_classification.location}/test/images',\n",
        "    imgsz=640,\n",
        "    conf=0.25,\n",
        "    iou=0.45,\n",
        "    save=True,\n",
        "    save_txt=True,\n",
        "    project=PREDICTION_DIR,\n",
        "    name=\"test_results\"\n",
        ")\n",
        "\n",
        "metrics = model.val(\n",
        "    data=dataset_yaml_path,\n",
        "    split='test',\n",
        "    imgsz=640,\n",
        "    batch=16,\n",
        "    project=PREDICTION_DIR,\n",
        "    name=\"metric\"\n",
        ")"
      ]
    }
  ],
  "metadata": {
    "accelerator": "GPU",
    "colab": {
      "gpuType": "T4",
      "provenance": []
    },
    "kernelspec": {
      "display_name": "Python 3",
      "name": "python3"
    },
    "language_info": {
      "name": "python"
    }
  },
  "nbformat": 4,
  "nbformat_minor": 0
}
